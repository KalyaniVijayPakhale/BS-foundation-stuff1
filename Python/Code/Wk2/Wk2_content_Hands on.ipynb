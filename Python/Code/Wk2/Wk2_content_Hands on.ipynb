{
 "cells": [
  {
   "cell_type": "code",
   "execution_count": 1,
   "id": "9dc1a890",
   "metadata": {},
   "outputs": [],
   "source": [
    "a = 1000000\n",
    "b =590000\n",
    "\n",
    "c = 200000\n",
    "d =345678\n",
    "\n",
    "# variabbles should be self explanatory"
   ]
  },
  {
   "cell_type": "code",
   "execution_count": 5,
   "id": "b4cbec0c",
   "metadata": {},
   "outputs": [
    {
     "name": "stdout",
     "output_type": "stream",
     "text": [
      "So family has:  264322\n"
     ]
    }
   ],
   "source": [
    "Ram_bank =1000000\n",
    "Ram_Loan = 590000\n",
    "\n",
    "Laxman_bank = 200000\n",
    "Laxman_Loan =345678\n",
    "\n",
    "net_income = Ram_bank + Laxman_bank\n",
    "net_liability = Ram_Loan + Laxman_Loan\n",
    "\n",
    "final_value = net_income-net_liability\n",
    "print('So family has: ', final_value)"
   ]
  },
  {
   "cell_type": "code",
   "execution_count": 6,
   "id": "f9ed546e",
   "metadata": {},
   "outputs": [],
   "source": [
    "# Add comments"
   ]
  },
  {
   "cell_type": "code",
   "execution_count": 7,
   "id": "ff92bbd9",
   "metadata": {},
   "outputs": [
    {
     "name": "stdout",
     "output_type": "stream",
     "text": [
      "<class 'int'>\n"
     ]
    }
   ],
   "source": [
    "# dynamic Programming\n",
    "# dynamic ;  things can change.\n",
    "a = 10\n",
    "print(type(a))"
   ]
  },
  {
   "cell_type": "code",
   "execution_count": 8,
   "id": "92eefb51",
   "metadata": {},
   "outputs": [
    {
     "name": "stdout",
     "output_type": "stream",
     "text": [
      "<class 'str'>\n"
     ]
    }
   ],
   "source": [
    "a = 'India'\n",
    "print(type(a))"
   ]
  },
  {
   "cell_type": "code",
   "execution_count": 12,
   "id": "6cc2c8b7",
   "metadata": {},
   "outputs": [
    {
     "data": {
      "text/plain": [
       "int"
      ]
     },
     "execution_count": 12,
     "metadata": {},
     "output_type": "execute_result"
    }
   ],
   "source": [
    "n = 10\n",
    "type(n)"
   ]
  },
  {
   "cell_type": "code",
   "execution_count": 18,
   "id": "d0de6ae7",
   "metadata": {},
   "outputs": [
    {
     "data": {
      "text/plain": [
       "float"
      ]
     },
     "execution_count": 18,
     "metadata": {},
     "output_type": "execute_result"
    }
   ],
   "source": [
    "n=n/1\n",
    "type(n)"
   ]
  },
  {
   "cell_type": "code",
   "execution_count": 17,
   "id": "ec07b28d",
   "metadata": {},
   "outputs": [
    {
     "data": {
      "text/plain": [
       "int"
      ]
     },
     "execution_count": 17,
     "metadata": {},
     "output_type": "execute_result"
    }
   ],
   "source": [
    "z=12\n",
    "z//2\n",
    "type(z)"
   ]
  },
  {
   "cell_type": "code",
   "execution_count": 22,
   "id": "be59c38d",
   "metadata": {},
   "outputs": [
    {
     "name": "stdout",
     "output_type": "stream",
     "text": [
      "1 3\n"
     ]
    }
   ],
   "source": [
    "# Multiple Assignment\n",
    "\n",
    "x, y = 1, 3\n",
    "print(x,y)"
   ]
  },
  {
   "cell_type": "code",
   "execution_count": 25,
   "id": "b7ba1c1e",
   "metadata": {},
   "outputs": [
    {
     "name": "stdout",
     "output_type": "stream",
     "text": [
      "2 1\n"
     ]
    }
   ],
   "source": [
    "# Swapping \n",
    "x, y = 1,2\n",
    "x,y = y,x\n",
    "print(x,y)"
   ]
  },
  {
   "cell_type": "code",
   "execution_count": 28,
   "id": "8f674c7a",
   "metadata": {},
   "outputs": [
    {
     "name": "stdout",
     "output_type": "stream",
     "text": [
      "10\n"
     ]
    }
   ],
   "source": [
    "# Delete a variable\n",
    "x =10\n",
    "print(x)"
   ]
  },
  {
   "cell_type": "code",
   "execution_count": 30,
   "id": "922a28b4",
   "metadata": {},
   "outputs": [],
   "source": [
    "del x"
   ]
  },
  {
   "cell_type": "code",
   "execution_count": 31,
   "id": "1832ab1c",
   "metadata": {},
   "outputs": [
    {
     "ename": "NameError",
     "evalue": "name 'x' is not defined",
     "output_type": "error",
     "traceback": [
      "\u001b[1;31m---------------------------------------------------------------------------\u001b[0m",
      "\u001b[1;31mNameError\u001b[0m                                 Traceback (most recent call last)",
      "\u001b[1;32m~\\AppData\\Local\\Temp\\ipykernel_1204\\1353120783.py\u001b[0m in \u001b[0;36m<module>\u001b[1;34m\u001b[0m\n\u001b[1;32m----> 1\u001b[1;33m \u001b[0mprint\u001b[0m\u001b[1;33m(\u001b[0m\u001b[0mx\u001b[0m\u001b[1;33m)\u001b[0m\u001b[1;33m\u001b[0m\u001b[1;33m\u001b[0m\u001b[0m\n\u001b[0m",
      "\u001b[1;31mNameError\u001b[0m: name 'x' is not defined"
     ]
    }
   ],
   "source": [
    "print(x)"
   ]
  },
  {
   "cell_type": "code",
   "execution_count": 37,
   "id": "74b88f25",
   "metadata": {},
   "outputs": [
    {
     "data": {
      "text/plain": [
       "3"
      ]
     },
     "execution_count": 37,
     "metadata": {},
     "output_type": "execute_result"
    }
   ],
   "source": [
    "# Arithmatic operators\n",
    "count = 0\n",
    "count= count +1\n",
    "count= count +1\n",
    "count= count +1\n",
    "count # shorthand operator|"
   ]
  },
  {
   "cell_type": "code",
   "execution_count": 38,
   "id": "388ea50e",
   "metadata": {},
   "outputs": [],
   "source": [
    "count += 1"
   ]
  },
  {
   "cell_type": "code",
   "execution_count": 39,
   "id": "397f5b3e",
   "metadata": {},
   "outputs": [
    {
     "data": {
      "text/plain": [
       "4"
      ]
     },
     "execution_count": 39,
     "metadata": {},
     "output_type": "execute_result"
    }
   ],
   "source": [
    "count"
   ]
  },
  {
   "cell_type": "code",
   "execution_count": 40,
   "id": "703987d3",
   "metadata": {},
   "outputs": [],
   "source": [
    "count-= 1"
   ]
  },
  {
   "cell_type": "code",
   "execution_count": 41,
   "id": "a0f2f84e",
   "metadata": {},
   "outputs": [
    {
     "data": {
      "text/plain": [
       "3"
      ]
     },
     "execution_count": 41,
     "metadata": {},
     "output_type": "execute_result"
    }
   ],
   "source": [
    "count"
   ]
  },
  {
   "cell_type": "code",
   "execution_count": 42,
   "id": "b4758ec1",
   "metadata": {},
   "outputs": [
    {
     "data": {
      "text/plain": [
       "6"
      ]
     },
     "execution_count": 42,
     "metadata": {},
     "output_type": "execute_result"
    }
   ],
   "source": [
    "count *= 2\n",
    "count"
   ]
  },
  {
   "cell_type": "code",
   "execution_count": 43,
   "id": "d2b6df27",
   "metadata": {},
   "outputs": [
    {
     "data": {
      "text/plain": [
       "3"
      ]
     },
     "execution_count": 43,
     "metadata": {},
     "output_type": "execute_result"
    }
   ],
   "source": [
    "count //= 2\n",
    "count"
   ]
  },
  {
   "cell_type": "code",
   "execution_count": 44,
   "id": "92a9c826",
   "metadata": {},
   "outputs": [
    {
     "name": "stdout",
     "output_type": "stream",
     "text": [
      "True\n"
     ]
    }
   ],
   "source": [
    "# In operator\n",
    "\n",
    "print('python' in 'python programming')"
   ]
  },
  {
   "cell_type": "code",
   "execution_count": 45,
   "id": "075902e2",
   "metadata": {},
   "outputs": [
    {
     "name": "stdout",
     "output_type": "stream",
     "text": [
      "False\n"
     ]
    }
   ],
   "source": [
    "print('python' in 'Python programming')"
   ]
  },
  {
   "cell_type": "code",
   "execution_count": 46,
   "id": "c1c574f1",
   "metadata": {},
   "outputs": [],
   "source": [
    "# It seems that Python is case sensative language."
   ]
  },
  {
   "cell_type": "code",
   "execution_count": 2,
   "id": "54ece7c9",
   "metadata": {},
   "outputs": [
    {
     "name": "stdout",
     "output_type": "stream",
     "text": [
      "Python is programming language.\n",
      "It is useful to solve complex problems\n"
     ]
    }
   ],
   "source": [
    "print('Python is programming language.\\nIt is useful to solve complex problems')"
   ]
  },
  {
   "cell_type": "code",
   "execution_count": 5,
   "id": "0b25d239",
   "metadata": {},
   "outputs": [
    {
     "name": "stdout",
     "output_type": "stream",
     "text": [
      "python\n",
      "is\n",
      "programming\n",
      "language\n"
     ]
    }
   ],
   "source": [
    "v = '''python\n",
    "is\n",
    "programming\n",
    "language'''\n",
    "print(v)"
   ]
  },
  {
   "cell_type": "code",
   "execution_count": 8,
   "id": "85cfc84b",
   "metadata": {},
   "outputs": [
    {
     "name": "stdout",
     "output_type": "stream",
     "text": [
      "python\n",
      "is\n",
      "programming\n",
      "language\n"
     ]
    }
   ],
   "source": [
    "# String Methods\n",
    "print(v.lower())"
   ]
  },
  {
   "cell_type": "code",
   "execution_count": 9,
   "id": "941c5cc1",
   "metadata": {},
   "outputs": [
    {
     "name": "stdout",
     "output_type": "stream",
     "text": [
      "PYTHON\n",
      "IS\n",
      "PROGRAMMING\n",
      "LANGUAGE\n"
     ]
    }
   ],
   "source": [
    "print(v.upper())"
   ]
  },
  {
   "cell_type": "code",
   "execution_count": 10,
   "id": "62d71247",
   "metadata": {},
   "outputs": [
    {
     "name": "stdout",
     "output_type": "stream",
     "text": [
      "Python\n",
      "is\n",
      "programming\n",
      "language\n"
     ]
    }
   ],
   "source": [
    "print(v.capitalize())"
   ]
  },
  {
   "cell_type": "code",
   "execution_count": 11,
   "id": "e6ae4907",
   "metadata": {},
   "outputs": [
    {
     "name": "stdout",
     "output_type": "stream",
     "text": [
      "python\n",
      "is\n",
      "programming\n",
      "language\n"
     ]
    }
   ],
   "source": [
    "print(v)"
   ]
  },
  {
   "cell_type": "code",
   "execution_count": 12,
   "id": "3fac3195",
   "metadata": {},
   "outputs": [
    {
     "name": "stdout",
     "output_type": "stream",
     "text": [
      "Python\n",
      "Is\n",
      "Programming\n",
      "Language\n"
     ]
    }
   ],
   "source": [
    "print(v.title())"
   ]
  },
  {
   "cell_type": "code",
   "execution_count": 13,
   "id": "e9ffc610",
   "metadata": {
    "scrolled": true
   },
   "outputs": [
    {
     "name": "stdout",
     "output_type": "stream",
     "text": [
      "PYTHON\n",
      "IS\n",
      "PROGRAMMING\n",
      "LANGUAGE\n"
     ]
    }
   ],
   "source": [
    "print(v.swapcase())"
   ]
  },
  {
   "cell_type": "code",
   "execution_count": 18,
   "id": "21e0c7e5",
   "metadata": {},
   "outputs": [
    {
     "name": "stdout",
     "output_type": "stream",
     "text": [
      "False\n"
     ]
    }
   ],
   "source": [
    "x = '134rsdfg#'\n",
    "print(x.isalpha())"
   ]
  },
  {
   "cell_type": "code",
   "execution_count": 19,
   "id": "aa1aa04b",
   "metadata": {},
   "outputs": [
    {
     "name": "stdout",
     "output_type": "stream",
     "text": [
      "False\n"
     ]
    }
   ],
   "source": [
    "print(x.isalnum())"
   ]
  },
  {
   "cell_type": "code",
   "execution_count": 20,
   "id": "3923674a",
   "metadata": {},
   "outputs": [
    {
     "name": "stdout",
     "output_type": "stream",
     "text": [
      "python\n"
     ]
    }
   ],
   "source": [
    "x = '======python'\n",
    "print(x.lstrip('='))"
   ]
  },
  {
   "cell_type": "code",
   "execution_count": 1,
   "id": "f6a8fa7a",
   "metadata": {},
   "outputs": [
    {
     "name": "stdout",
     "output_type": "stream",
     "text": [
      "python\n"
     ]
    }
   ],
   "source": [
    "x =  '======python'\n",
    "print(x.strip('='))"
   ]
  },
  {
   "cell_type": "code",
   "execution_count": 23,
   "id": "995d6608",
   "metadata": {},
   "outputs": [
    {
     "name": "stdout",
     "output_type": "stream",
     "text": [
      "True\n"
     ]
    }
   ],
   "source": [
    "print(v.startswith('p'))"
   ]
  },
  {
   "cell_type": "code",
   "execution_count": 24,
   "id": "b851ab15",
   "metadata": {},
   "outputs": [
    {
     "name": "stdout",
     "output_type": "stream",
     "text": [
      "True\n"
     ]
    }
   ],
   "source": [
    "print(x.endswith('n'))"
   ]
  },
  {
   "cell_type": "code",
   "execution_count": 25,
   "id": "3fc7b0fb",
   "metadata": {},
   "outputs": [
    {
     "name": "stdout",
     "output_type": "stream",
     "text": [
      "1\n"
     ]
    }
   ],
   "source": [
    "print(x.count('p'))"
   ]
  },
  {
   "cell_type": "code",
   "execution_count": 2,
   "id": "2cfbab43",
   "metadata": {},
   "outputs": [
    {
     "name": "stdout",
     "output_type": "stream",
     "text": [
      "10\n"
     ]
    }
   ],
   "source": [
    "print(x.index('o'))"
   ]
  },
  {
   "cell_type": "code",
   "execution_count": 29,
   "id": "490681be",
   "metadata": {},
   "outputs": [
    {
     "name": "stdout",
     "output_type": "stream",
     "text": [
      "======pythoN\n"
     ]
    }
   ],
   "source": [
    "print(x.replace('n','N'))"
   ]
  },
  {
   "cell_type": "code",
   "execution_count": 31,
   "id": "e0393000",
   "metadata": {},
   "outputs": [
    {
     "data": {
      "text/plain": [
       "26"
      ]
     },
     "execution_count": 31,
     "metadata": {},
     "output_type": "execute_result"
    }
   ],
   "source": [
    "alpha= 'abcdefghijklmnopqrstuvwxyz'\n",
    "len(alpha)"
   ]
  },
  {
   "cell_type": "code",
   "execution_count": 32,
   "id": "f9eb9027",
   "metadata": {},
   "outputs": [
    {
     "name": "stdout",
     "output_type": "stream",
     "text": [
      "k\n"
     ]
    }
   ],
   "source": [
    "i =10\n",
    "print(alpha[i])"
   ]
  },
  {
   "cell_type": "code",
   "execution_count": 34,
   "id": "9738851c",
   "metadata": {},
   "outputs": [
    {
     "name": "stdout",
     "output_type": "stream",
     "text": [
      "l\n",
      "m\n"
     ]
    }
   ],
   "source": [
    "print(alpha[i+1])\n",
    "print(alpha[i+2])"
   ]
  },
  {
   "cell_type": "code",
   "execution_count": 36,
   "id": "0db20be4",
   "metadata": {},
   "outputs": [
    {
     "data": {
      "text/plain": [
       "'u'"
      ]
     },
     "execution_count": 36,
     "metadata": {},
     "output_type": "execute_result"
    }
   ],
   "source": [
    "alpha[i+10]"
   ]
  },
  {
   "cell_type": "code",
   "execution_count": 37,
   "id": "0073ff81",
   "metadata": {},
   "outputs": [
    {
     "name": "stdout",
     "output_type": "stream",
     "text": [
      "u\n"
     ]
    }
   ],
   "source": [
    "print(alpha[20])"
   ]
  },
  {
   "cell_type": "code",
   "execution_count": 41,
   "id": "caeecb48",
   "metadata": {},
   "outputs": [
    {
     "name": "stdout",
     "output_type": "stream",
     "text": [
      "b\n"
     ]
    }
   ],
   "source": [
    "j=27\n",
    "print(alpha[j%26])"
   ]
  },
  {
   "cell_type": "code",
   "execution_count": 43,
   "id": "99a993c1",
   "metadata": {},
   "outputs": [
    {
     "data": {
      "text/plain": [
       "'k'"
      ]
     },
     "execution_count": 43,
     "metadata": {},
     "output_type": "execute_result"
    }
   ],
   "source": [
    "s = 'kalyani'\n",
    "#t = \n",
    "\n",
    "s[0]"
   ]
  },
  {
   "cell_type": "code",
   "execution_count": 45,
   "id": "dfe65301",
   "metadata": {},
   "outputs": [
    {
     "data": {
      "text/plain": [
       "10"
      ]
     },
     "execution_count": 45,
     "metadata": {},
     "output_type": "execute_result"
    }
   ],
   "source": [
    "alpha.index(s[0])"
   ]
  },
  {
   "cell_type": "code",
   "execution_count": 50,
   "id": "e9048b88",
   "metadata": {},
   "outputs": [
    {
     "data": {
      "text/plain": [
       "'l'"
      ]
     },
     "execution_count": 50,
     "metadata": {},
     "output_type": "execute_result"
    }
   ],
   "source": [
    "alpha[(alpha.index(s[0])+1)%26]"
   ]
  },
  {
   "cell_type": "code",
   "execution_count": 52,
   "id": "f8d79fa3",
   "metadata": {},
   "outputs": [
    {
     "data": {
      "text/plain": [
       "'b'"
      ]
     },
     "execution_count": 52,
     "metadata": {},
     "output_type": "execute_result"
    }
   ],
   "source": [
    "alpha[(alpha.index(s[1])+1)%26]"
   ]
  },
  {
   "cell_type": "code",
   "execution_count": 54,
   "id": "b66d4628",
   "metadata": {},
   "outputs": [
    {
     "data": {
      "text/plain": [
       "'l'"
      ]
     },
     "execution_count": 54,
     "metadata": {},
     "output_type": "execute_result"
    }
   ],
   "source": [
    "s[2]"
   ]
  },
  {
   "cell_type": "code",
   "execution_count": 55,
   "id": "7a9bc18e",
   "metadata": {},
   "outputs": [
    {
     "data": {
      "text/plain": [
       "11"
      ]
     },
     "execution_count": 55,
     "metadata": {},
     "output_type": "execute_result"
    }
   ],
   "source": [
    "alpha.index(s[2])"
   ]
  },
  {
   "cell_type": "code",
   "execution_count": 57,
   "id": "4e5bfe45",
   "metadata": {},
   "outputs": [
    {
     "data": {
      "text/plain": [
       "'m'"
      ]
     },
     "execution_count": 57,
     "metadata": {},
     "output_type": "execute_result"
    }
   ],
   "source": [
    "alpha[(alpha.index(s[2])+1)]"
   ]
  },
  {
   "cell_type": "code",
   "execution_count": 58,
   "id": "c28c8710",
   "metadata": {},
   "outputs": [
    {
     "data": {
      "text/plain": [
       "'m'"
      ]
     },
     "execution_count": 58,
     "metadata": {},
     "output_type": "execute_result"
    }
   ],
   "source": [
    "alpha[(alpha.index(s[2])+1)%26]"
   ]
  },
  {
   "cell_type": "code",
   "execution_count": 59,
   "id": "555a1561",
   "metadata": {},
   "outputs": [
    {
     "data": {
      "text/plain": [
       "'z'"
      ]
     },
     "execution_count": 59,
     "metadata": {},
     "output_type": "execute_result"
    }
   ],
   "source": [
    "alpha[(alpha.index(s[3])+1)]"
   ]
  },
  {
   "cell_type": "code",
   "execution_count": 61,
   "id": "25ef9514",
   "metadata": {},
   "outputs": [
    {
     "data": {
      "text/plain": [
       "'z'"
      ]
     },
     "execution_count": 61,
     "metadata": {},
     "output_type": "execute_result"
    }
   ],
   "source": [
    "alpha[(alpha.index(s[3])+1)%26]"
   ]
  },
  {
   "cell_type": "code",
   "execution_count": 73,
   "id": "21e0d174",
   "metadata": {},
   "outputs": [
    {
     "data": {
      "text/plain": [
       "'la'"
      ]
     },
     "execution_count": 73,
     "metadata": {},
     "output_type": "execute_result"
    }
   ],
   "source": [
    "t = ''\n",
    "i=0\n",
    "t = t+(alpha[(alpha.index(s[i])+1)%26])\n",
    "t = t+(alpha[(alpha.index(s[i+1])+1)&26])\n",
    "t"
   ]
  },
  {
   "cell_type": "code",
   "execution_count": 3,
   "id": "8d1e68f5",
   "metadata": {},
   "outputs": [
    {
     "name": "stdout",
     "output_type": "stream",
     "text": [
      "Enter your birth year: 2000\n",
      "You can watch the movie, Enjoy\n"
     ]
    }
   ],
   "source": [
    "# if -else\n",
    "\n",
    "birth_yr = int(input('Enter your birth year: '))\n",
    "current_yr = 2023\n",
    "\n",
    "age = current_yr-birth_yr\n",
    "\n",
    "if(age<13):\n",
    "    print('you are not old enough to watch this movie')\n",
    "else:\n",
    "    print('You can watch the movie, Enjoy')"
   ]
  },
  {
   "cell_type": "code",
   "execution_count": 7,
   "id": "f604bea3",
   "metadata": {},
   "outputs": [
    {
     "name": "stdout",
     "output_type": "stream",
     "text": [
      "-9\n",
      "Number is odd\n"
     ]
    }
   ],
   "source": [
    "# Q1. Find whether given no is odd or even\n",
    "\n",
    "number = int(input())\n",
    "if(number%2 == 0):\n",
    "    print('Number is Even')\n",
    "else:\n",
    "    print('Number is odd')"
   ]
  },
  {
   "cell_type": "code",
   "execution_count": 11,
   "id": "9696d92e",
   "metadata": {},
   "outputs": [
    {
     "name": "stdout",
     "output_type": "stream",
     "text": [
      "-29\n",
      "The number end with any other number\n"
     ]
    }
   ],
   "source": [
    "# Q2. Find whether the given number is end with 0 or 5 or an other number\n",
    "\n",
    "number = int(input())\n",
    "if(number%10 == 0):\n",
    "    print('The number end with 0')\n",
    "elif(number%5 == 0):\n",
    "    print('The number end with 5')\n",
    "else:\n",
    "    print('The number end with any other number')"
   ]
  },
  {
   "cell_type": "code",
   "execution_count": 15,
   "id": "03196309",
   "metadata": {},
   "outputs": [
    {
     "name": "stdout",
     "output_type": "stream",
     "text": [
      "90\n",
      "A\n"
     ]
    }
   ],
   "source": [
    "# Q3. Find the grade of student based on the given marks from 0 to 100\n",
    "\n",
    "marks = int(input())\n",
    "\n",
    "if(marks>=90):\n",
    "    print('A')\n",
    "elif(marks>=80 and marks<90):\n",
    "    print('B')\n",
    "elif(marks>=70 and marks<80):\n",
    "    print('C')\n",
    "elif(marks>=60 and marks<70):\n",
    "    print('D')\n",
    "else:\n",
    "    print('E')"
   ]
  },
  {
   "cell_type": "code",
   "execution_count": 16,
   "id": "1dcb7094",
   "metadata": {},
   "outputs": [
    {
     "name": "stdout",
     "output_type": "stream",
     "text": [
      "Travel from city A to city B\n"
     ]
    }
   ],
   "source": [
    "# flowchart to code\n",
    "\n",
    "print('Travel from city A to city B')"
   ]
  },
  {
   "cell_type": "code",
   "execution_count": 17,
   "id": "0db9d7f9",
   "metadata": {},
   "outputs": [
    {
     "name": "stdout",
     "output_type": "stream",
     "text": [
      "2.4849066497880004\n"
     ]
    }
   ],
   "source": [
    "import math\n",
    "print(math.log(12))"
   ]
  },
  {
   "cell_type": "code",
   "execution_count": 20,
   "id": "e240cf1b",
   "metadata": {},
   "outputs": [
    {
     "name": "stdout",
     "output_type": "stream",
     "text": [
      "0.8939966636005579\n"
     ]
    }
   ],
   "source": [
    "print(math.sin(90))"
   ]
  },
  {
   "cell_type": "code",
   "execution_count": 19,
   "id": "3899fe12",
   "metadata": {},
   "outputs": [
    {
     "name": "stdout",
     "output_type": "stream",
     "text": [
      "4.0\n"
     ]
    }
   ],
   "source": [
    "print(math.sqrt(16))"
   ]
  },
  {
   "cell_type": "code",
   "execution_count": 26,
   "id": "f4073486",
   "metadata": {},
   "outputs": [
    {
     "name": "stdout",
     "output_type": "stream",
     "text": [
      "0.7862694671379509\n"
     ]
    }
   ],
   "source": [
    "import random\n",
    "print(random.random())"
   ]
  },
  {
   "cell_type": "code",
   "execution_count": 33,
   "id": "00145320",
   "metadata": {},
   "outputs": [
    {
     "name": "stdout",
     "output_type": "stream",
     "text": [
      "Head\n"
     ]
    }
   ],
   "source": [
    "a = random.random()\n",
    "if(a>=0.5):\n",
    "    print('Head')\n",
    "else:\n",
    "    print('Tail')"
   ]
  },
  {
   "cell_type": "code",
   "execution_count": 49,
   "id": "731a179c",
   "metadata": {},
   "outputs": [
    {
     "name": "stdout",
     "output_type": "stream",
     "text": [
      "6\n"
     ]
    }
   ],
   "source": [
    "# Let us simulate a dice\n",
    "print(random.randrange(1,7))"
   ]
  },
  {
   "cell_type": "code",
   "execution_count": 54,
   "id": "3a501c20",
   "metadata": {},
   "outputs": [
    {
     "name": "stdout",
     "output_type": "stream",
     "text": [
      "10\n"
     ]
    }
   ],
   "source": [
    "# Let us simulate the sum of two  dies\n",
    "\n",
    "dice1 = random.randrange(1,7)\n",
    "dice2 = random.randrange(1,7)\n",
    "\n",
    "total = dice1+dice2\n",
    "\n",
    "print(total)"
   ]
  },
  {
   "cell_type": "code",
   "execution_count": 62,
   "id": "e37ab093",
   "metadata": {},
   "outputs": [
    {
     "name": "stdout",
     "output_type": "stream",
     "text": [
      "   November 1995\n",
      "Mo Tu We Th Fr Sa Su\n",
      "       1  2  3  4  5\n",
      " 6  7  8  9 10 11 12\n",
      "13 14 15 16 17 18 19\n",
      "20 21 22 23 24 25 26\n",
      "27 28 29 30\n",
      "\n"
     ]
    }
   ],
   "source": [
    "import calendar\n",
    "print(calendar.month(1995,11))"
   ]
  },
  {
   "cell_type": "code",
   "execution_count": 63,
   "id": "d1be3583",
   "metadata": {},
   "outputs": [
    {
     "name": "stdout",
     "output_type": "stream",
     "text": [
      "                                  2023\n",
      "\n",
      "      January                   February                   March\n",
      "Mo Tu We Th Fr Sa Su      Mo Tu We Th Fr Sa Su      Mo Tu We Th Fr Sa Su\n",
      "                   1             1  2  3  4  5             1  2  3  4  5\n",
      " 2  3  4  5  6  7  8       6  7  8  9 10 11 12       6  7  8  9 10 11 12\n",
      " 9 10 11 12 13 14 15      13 14 15 16 17 18 19      13 14 15 16 17 18 19\n",
      "16 17 18 19 20 21 22      20 21 22 23 24 25 26      20 21 22 23 24 25 26\n",
      "23 24 25 26 27 28 29      27 28                     27 28 29 30 31\n",
      "30 31\n",
      "\n",
      "       April                      May                       June\n",
      "Mo Tu We Th Fr Sa Su      Mo Tu We Th Fr Sa Su      Mo Tu We Th Fr Sa Su\n",
      "                1  2       1  2  3  4  5  6  7                1  2  3  4\n",
      " 3  4  5  6  7  8  9       8  9 10 11 12 13 14       5  6  7  8  9 10 11\n",
      "10 11 12 13 14 15 16      15 16 17 18 19 20 21      12 13 14 15 16 17 18\n",
      "17 18 19 20 21 22 23      22 23 24 25 26 27 28      19 20 21 22 23 24 25\n",
      "24 25 26 27 28 29 30      29 30 31                  26 27 28 29 30\n",
      "\n",
      "        July                     August                  September\n",
      "Mo Tu We Th Fr Sa Su      Mo Tu We Th Fr Sa Su      Mo Tu We Th Fr Sa Su\n",
      "                1  2          1  2  3  4  5  6                   1  2  3\n",
      " 3  4  5  6  7  8  9       7  8  9 10 11 12 13       4  5  6  7  8  9 10\n",
      "10 11 12 13 14 15 16      14 15 16 17 18 19 20      11 12 13 14 15 16 17\n",
      "17 18 19 20 21 22 23      21 22 23 24 25 26 27      18 19 20 21 22 23 24\n",
      "24 25 26 27 28 29 30      28 29 30 31               25 26 27 28 29 30\n",
      "31\n",
      "\n",
      "      October                   November                  December\n",
      "Mo Tu We Th Fr Sa Su      Mo Tu We Th Fr Sa Su      Mo Tu We Th Fr Sa Su\n",
      "                   1             1  2  3  4  5                   1  2  3\n",
      " 2  3  4  5  6  7  8       6  7  8  9 10 11 12       4  5  6  7  8  9 10\n",
      " 9 10 11 12 13 14 15      13 14 15 16 17 18 19      11 12 13 14 15 16 17\n",
      "16 17 18 19 20 21 22      20 21 22 23 24 25 26      18 19 20 21 22 23 24\n",
      "23 24 25 26 27 28 29      27 28 29 30               25 26 27 28 29 30 31\n",
      "30 31\n",
      "\n"
     ]
    }
   ],
   "source": [
    "print(calendar.calendar(2023))"
   ]
  },
  {
   "cell_type": "code",
   "execution_count": 66,
   "id": "ac36115e",
   "metadata": {},
   "outputs": [
    {
     "name": "stdout",
     "output_type": "stream",
     "text": [
      "                                  2022\n",
      "\n",
      "      January                   February                   March\n",
      "Mo Tu We Th Fr Sa Su      Mo Tu We Th Fr Sa Su      Mo Tu We Th Fr Sa Su\n",
      "                1  2          1  2  3  4  5  6          1  2  3  4  5  6\n",
      " 3  4  5  6  7  8  9       7  8  9 10 11 12 13       7  8  9 10 11 12 13\n",
      "10 11 12 13 14 15 16      14 15 16 17 18 19 20      14 15 16 17 18 19 20\n",
      "17 18 19 20 21 22 23      21 22 23 24 25 26 27      21 22 23 24 25 26 27\n",
      "24 25 26 27 28 29 30      28                        28 29 30 31\n",
      "31\n",
      "\n",
      "       April                      May                       June\n",
      "Mo Tu We Th Fr Sa Su      Mo Tu We Th Fr Sa Su      Mo Tu We Th Fr Sa Su\n",
      "             1  2  3                         1             1  2  3  4  5\n",
      " 4  5  6  7  8  9 10       2  3  4  5  6  7  8       6  7  8  9 10 11 12\n",
      "11 12 13 14 15 16 17       9 10 11 12 13 14 15      13 14 15 16 17 18 19\n",
      "18 19 20 21 22 23 24      16 17 18 19 20 21 22      20 21 22 23 24 25 26\n",
      "25 26 27 28 29 30         23 24 25 26 27 28 29      27 28 29 30\n",
      "                          30 31\n",
      "\n",
      "        July                     August                  September\n",
      "Mo Tu We Th Fr Sa Su      Mo Tu We Th Fr Sa Su      Mo Tu We Th Fr Sa Su\n",
      "             1  2  3       1  2  3  4  5  6  7                1  2  3  4\n",
      " 4  5  6  7  8  9 10       8  9 10 11 12 13 14       5  6  7  8  9 10 11\n",
      "11 12 13 14 15 16 17      15 16 17 18 19 20 21      12 13 14 15 16 17 18\n",
      "18 19 20 21 22 23 24      22 23 24 25 26 27 28      19 20 21 22 23 24 25\n",
      "25 26 27 28 29 30 31      29 30 31                  26 27 28 29 30\n",
      "\n",
      "      October                   November                  December\n",
      "Mo Tu We Th Fr Sa Su      Mo Tu We Th Fr Sa Su      Mo Tu We Th Fr Sa Su\n",
      "                1  2          1  2  3  4  5  6                1  2  3  4\n",
      " 3  4  5  6  7  8  9       7  8  9 10 11 12 13       5  6  7  8  9 10 11\n",
      "10 11 12 13 14 15 16      14 15 16 17 18 19 20      12 13 14 15 16 17 18\n",
      "17 18 19 20 21 22 23      21 22 23 24 25 26 27      19 20 21 22 23 24 25\n",
      "24 25 26 27 28 29 30      28 29 30                  26 27 28 29 30 31\n",
      "31\n",
      "\n"
     ]
    }
   ],
   "source": [
    "from calendar import *\n",
    "print(calendar(2022))"
   ]
  },
  {
   "cell_type": "code",
   "execution_count": null,
   "id": "922cf8d9",
   "metadata": {},
   "outputs": [],
   "source": []
  }
 ],
 "metadata": {
  "kernelspec": {
   "display_name": "Python 3 (ipykernel)",
   "language": "python",
   "name": "python3"
  },
  "language_info": {
   "codemirror_mode": {
    "name": "ipython",
    "version": 3
   },
   "file_extension": ".py",
   "mimetype": "text/x-python",
   "name": "python",
   "nbconvert_exporter": "python",
   "pygments_lexer": "ipython3",
   "version": "3.9.13"
  }
 },
 "nbformat": 4,
 "nbformat_minor": 5
}
