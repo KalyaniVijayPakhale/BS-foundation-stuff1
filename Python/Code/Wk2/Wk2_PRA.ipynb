{
 "cells": [
  {
   "cell_type": "code",
   "execution_count": 1,
   "id": "ded959ec",
   "metadata": {},
   "outputs": [
    {
     "name": "stdout",
     "output_type": "stream",
     "text": [
      "23\n",
      "positive\n"
     ]
    }
   ],
   "source": [
    "# Accept a non-zero integer as input. Print positive if it is greater than zero and negative if it is less than zero.\n",
    "\n",
    "n = int(input())\n",
    "if(n>0):\n",
    "    print('positive')\n",
    "else:\n",
    "    print('negative')"
   ]
  },
  {
   "cell_type": "code",
   "execution_count": 2,
   "id": "3e754a35",
   "metadata": {},
   "outputs": [
    {
     "name": "stdout",
     "output_type": "stream",
     "text": [
      "12\n",
      "146\n"
     ]
    }
   ],
   "source": [
    "# PRA2\n",
    "\n",
    "x = int(input())\n",
    "\n",
    "if(0<x<10):\n",
    "    print(x+2)\n",
    "elif(x>=10):\n",
    "    print((x*x)+2)\n",
    "else:\n",
    "    print(0)"
   ]
  },
  {
   "cell_type": "code",
   "execution_count": 3,
   "id": "bf509bdd",
   "metadata": {},
   "outputs": [
    {
     "name": "stdout",
     "output_type": "stream",
     "text": [
      "12\n",
      "NIGHT\n"
     ]
    }
   ],
   "source": [
    "# PRA3\n",
    "\n",
    "t = int(input())\n",
    "\n",
    "if(t<0):\n",
    "    print('INVALID')\n",
    "elif(0<=t<=t):\n",
    "    print('NIGHT')\n",
    "elif(6<=t<=11):\n",
    "    print('MORNING')\n",
    "elif(12<=t<=17):\n",
    "    print('AFTERNOON')\n",
    "elif(18<=t<=23):\n",
    "    print('EVENING')\n",
    "elif(t>=24):\n",
    "    print('INVALID')"
   ]
  },
  {
   "cell_type": "code",
   "execution_count": 4,
   "id": "29b63703",
   "metadata": {},
   "outputs": [
    {
     "name": "stdout",
     "output_type": "stream",
     "text": [
      "1\n",
      "3\n",
      "first\n"
     ]
    }
   ],
   "source": [
    "# PRA4\n",
    "# Accept a point in 2D space as input and find the region in space that this point belongs to. A point could belong to one of the four quadrants, or it could be on one of the two axes, or it could be the origin. The input is given in 2 lines: the first line is the x-coordinate of the point while the second line is its y-coordinate. The possible outputs are first, second, third, fourth, x-axis, y-axis, and origin. Any other output will not be accepted. Note that all outputs should be in lower case.\n",
    "\n",
    "x_coordinate = float(input())\n",
    "y_coordinate = float(input())\n",
    "\n",
    "if(x_coordinate == 0 and y_coordinate == 0):\n",
    "    print('origin')\n",
    "elif(x_coordinate> 0 and y_coordinate > 0):\n",
    "    print('first')\n",
    "elif(x_coordinate<0 and y_coordinate>0):\n",
    "    print('second')\n",
    "elif(x_coordinate<0 and y_coordinate<0):\n",
    "    print('third')\n",
    "elif(x_coordinate>0 and y_coordinate <0 ):\n",
    "    print('fourth')\n",
    "elif(x_coordinate == 0):\n",
    "    print('y-axis')\n",
    "elif(y_coordinate == 0):\n",
    "    print('x-axis')"
   ]
  },
  {
   "cell_type": "code",
   "execution_count": 5,
   "id": "3beee7ce",
   "metadata": {},
   "outputs": [
    {
     "name": "stdout",
     "output_type": "stream",
     "text": [
      "1\n",
      "2\n",
      "3\n",
      "4\n",
      "5\n",
      "6.0\n",
      "Positive Slope\n"
     ]
    }
   ],
   "source": [
    "# PRA5\n",
    "\n",
    "x1_coordinate = float(input())\n",
    "y1_coordinate = float(input())\n",
    "x2_coordinate = float(input())\n",
    "y2_coordinate = float(input())\n",
    "x3_coordinate = float(input())\n",
    "\n",
    "\n",
    "\n",
    "if(x1_coordinate == x2_coordinate):\n",
    "    print('Vertical Line')\n",
    "else:\n",
    "    slope = (y2_coordinate-y1_coordinate)/(x2_coordinate-x1_coordinate)\n",
    "    y3_coordinate = y1_coordinate+ slope*(x3_coordinate-x1_coordinate)\n",
    "    print(y3_coordinate)\n",
    "    if slope>0:\n",
    "        print(\"Positive Slope\")\n",
    "    elif slope<0:\n",
    "        print(\"Negative Slope\")\n",
    "    else:\n",
    "        print(\"Horizontal Line\")"
   ]
  },
  {
   "cell_type": "code",
   "execution_count": 19,
   "id": "a8b8fb46",
   "metadata": {},
   "outputs": [
    {
     "name": "stdout",
     "output_type": "stream",
     "text": [
      "movenso\n",
      "movenso\n",
      "ven\n"
     ]
    }
   ],
   "source": [
    "# Accept a string as input. If the input string is of odd length, then continue with it. If the input string is of even\n",
    "#(1) If the last character is a period (.), then remove it\n",
    "#(2) If the lasCall this string of odd length word. Select a substring made up of three consecutive characters from word such that there are an equal number of characters to the left and right of this substring. Print this substring as output. You can assume that all input strings will be in lower case and will have a length of at least four.t character is not a period, then add a period (.) to the end of the string\n",
    "# Call this string of odd length word. Select a substring made up of three consecutive characters from word such that there are an equal number of characters to the left and right of this substring. Print this substring as output. \n",
    "# You can assume that all input strings will be in lower case and will have a length of at least four.\n",
    "\n",
    "string = str(input())\n",
    "\n",
    "if(len(string)%2 == 0):\n",
    "    if('.' in string):\n",
    "        string = string.strip('.')\n",
    "    else:\n",
    "        string = string+'.'\n",
    "print(string)\n",
    "if(len(string)%2 != 0):\n",
    "    start_index = len(string)//2\n",
    "    print(string[start_index-1:start_index+2])"
   ]
  },
  {
   "cell_type": "code",
   "execution_count": 25,
   "id": "6fe8fc19",
   "metadata": {},
   "outputs": [
    {
     "name": "stdout",
     "output_type": "stream",
     "text": [
      "1\n",
      "12\n",
      "123\n",
      "1256\n",
      "12467\n",
      "non-magical\n"
     ]
    }
   ],
   "source": [
    "#PRA7\n",
    "\n",
    "string_0 = str(input())\n",
    "string_1 = str(input())\n",
    "string_2 = str(input())\n",
    "string_3 = str(input())\n",
    "string_4 = str(input())\n",
    " \n",
    "if(string_0 in string_1):\n",
    "    if(string_1 in string_2):\n",
    "        \n",
    "        if(string_2 in string_3):\n",
    "           \n",
    "            if(string_3 in string_4):\n",
    "                print('magical')\n",
    "            else:\n",
    "                print('non-magical')\n",
    "        else:\n",
    "            print('non-magical')\n",
    "    else:\n",
    "            print('non-magical')\n",
    "else:\n",
    "    print('non-magical')"
   ]
  },
  {
   "cell_type": "code",
   "execution_count": 28,
   "id": "b4ad3ee4",
   "metadata": {},
   "outputs": [
    {
     "name": "stdout",
     "output_type": "stream",
     "text": [
      "12\n",
      "24\n",
      "245\n",
      "545\n",
      "67\n",
      "non-magical\n"
     ]
    }
   ],
   "source": [
    "#PRA7\n",
    "string_0 = str(input())\n",
    "string_1 = str(input())\n",
    "string_2 = str(input())\n",
    "string_3 = str(input())\n",
    "string_4 = str(input())\n",
    "\n",
    "if(string_0 in string_1 and string_1 in string_2 and string_2 in string_3 and string_3 in string_4):\n",
    "    print('magical')\n",
    "\n",
    "else:\n",
    "    print('non-magical')"
   ]
  },
  {
   "cell_type": "code",
   "execution_count": null,
   "id": "4cea70e5",
   "metadata": {},
   "outputs": [],
   "source": [
    "# Accept two positions as input: start and end. Print YES if a bishop at start can move to end in exactly one move. Print NO otherwise. Note that a bishop can only move along diagonals.\n",
    "\n",
    "start = str(input())\n",
    "end = str(input())\n",
    "\n",
    "s = 'ABCDEFGH'\n",
    "'''\n",
    "if(abs(s.index(start[0])-s.index(end[0])))==abs(int(start[1])-int(end[1])):\n",
    "    print('YES')\n",
    "else:\n",
    "    print('NO')'''"
   ]
  },
  {
   "cell_type": "code",
   "execution_count": 2,
   "id": "bcd69081",
   "metadata": {},
   "outputs": [
    {
     "name": "stdout",
     "output_type": "stream",
     "text": [
      "E5\n",
      "A1\n",
      "YES\n"
     ]
    }
   ],
   "source": [
    "start = str(input())\n",
    "end = str(input())\n",
    "s= 'ABCDEFGH'\n",
    "if(abs(s.index(start[0])-s.index(end[0])) == abs(int(start[1]) - int(end[1]))):\n",
    "    print('YES')\n",
    "else:\n",
    "    print('NO')"
   ]
  },
  {
   "cell_type": "code",
   "execution_count": null,
   "id": "075176e5",
   "metadata": {},
   "outputs": [],
   "source": [
    "# PRA8 \n",
    "\n",
    "start = str(input())\n",
    "end = str(input())\n",
    "\n",
    "s = 'ABCDEFGH'\n",
    "if(abs(s.index(start[0]) - s.index(end[0])) == abs(int(start[1]) - int(end[1]))):\n",
    "    print('Yes')\n",
    "else:\n",
    "    print('NO')"
   ]
  },
  {
   "cell_type": "code",
   "execution_count": 10,
   "id": "9477f085",
   "metadata": {},
   "outputs": [
    {
     "name": "stdout",
     "output_type": "stream",
     "text": [
      "9\n",
      "1\n",
      "2\n",
      "6\n",
      "UNFAIR\n"
     ]
    }
   ],
   "source": [
    "# PRA9\n",
    "\n",
    "Total = abs(int(input()))\n",
    "n1 = abs(int(input()))\n",
    "n2 = abs(int(input()))\n",
    "n3 = abs(int(input()))\n",
    "\n",
    "if(n1>0 and n2>0 and n3>0):\n",
    "    if(n1 != n2 and n1 !=n3 and n2 != n3):\n",
    "        if(n1+n2+n3 == Total):\n",
    "            print('UNFAIR')\n",
    "else:\n",
    "    print('UNFAIR')"
   ]
  },
  {
   "cell_type": "code",
   "execution_count": 9,
   "id": "41eeaeab",
   "metadata": {},
   "outputs": [
    {
     "name": "stdout",
     "output_type": "stream",
     "text": [
      "9\n",
      "2\n",
      "3\n",
      "4\n",
      "FAIR\n"
     ]
    }
   ],
   "source": [
    "Total = abs(int(input()))\n",
    "n1 = abs(int(input()))\n",
    "n2 = abs(int(input()))\n",
    "n3 = abs(int(input()))\n",
    "\n",
    "if (n1>0 and n2>0 and n3>0) and (n1 != n2 and n1 !=n3 and n2 != n3) and (n1+n2+n3 == Total):\n",
    "    print('FAIR')\n",
    "else:\n",
    "    print('UNFAIR')"
   ]
  },
  {
   "cell_type": "code",
   "execution_count": 2,
   "id": "7b716b35",
   "metadata": {},
   "outputs": [
    {
     "name": "stdout",
     "output_type": "stream",
     "text": [
      "-1.2\n",
      "-2\n",
      "-1\n"
     ]
    }
   ],
   "source": [
    "# PR10\n",
    "\n",
    "num = float(input())\n",
    "\n",
    "n = int(num)\n",
    "\n",
    "if(n>=0):\n",
    "    print(n)\n",
    "    print(n-1)\n",
    "elif(n==num):\n",
    "    print(n)\n",
    "    print(n)\n",
    "elif(n<0):\n",
    "    print(n-1)\n",
    "    print(n)"
   ]
  },
  {
   "cell_type": "code",
   "execution_count": 3,
   "id": "72f6a3a9",
   "metadata": {},
   "outputs": [
    {
     "name": "stdout",
     "output_type": "stream",
     "text": [
      "12\n",
      "Emerald\n"
     ]
    }
   ],
   "source": [
    "n = int(input())\n",
    "\n",
    "if(n % 4 == 1):\n",
    "    print('Sapphire')\n",
    "elif(n % 4 == 2):\n",
    "    print('Peridot')\n",
    "elif(n % 4 == 3):\n",
    "    print('Ruby')\n",
    "elif(n % 4 == 0):\n",
    "    print('Emerald')"
   ]
  },
  {
   "cell_type": "code",
   "execution_count": 5,
   "id": "46408b90",
   "metadata": {},
   "outputs": [
    {
     "name": "stdout",
     "output_type": "stream",
     "text": [
      "1\n",
      "9\n",
      "45.0\n"
     ]
    }
   ],
   "source": [
    "# PRA12\n",
    "\n",
    "backlog = int(input())\n",
    "cgpa = float(input())\n",
    "\n",
    "if(backlog <5 and cgpa>6):\n",
    "    print(5*cgpa)\n",
    "else:\n",
    "    print('Not Selected')"
   ]
  },
  {
   "cell_type": "code",
   "execution_count": null,
   "id": "c13a7e3c",
   "metadata": {},
   "outputs": [],
   "source": []
  }
 ],
 "metadata": {
  "kernelspec": {
   "display_name": "Python 3 (ipykernel)",
   "language": "python",
   "name": "python3"
  },
  "language_info": {
   "codemirror_mode": {
    "name": "ipython",
    "version": 3
   },
   "file_extension": ".py",
   "mimetype": "text/x-python",
   "name": "python",
   "nbconvert_exporter": "python",
   "pygments_lexer": "ipython3",
   "version": "3.9.13"
  }
 },
 "nbformat": 4,
 "nbformat_minor": 5
}
