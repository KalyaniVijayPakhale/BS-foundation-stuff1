{
 "cells": [
  {
   "cell_type": "code",
   "execution_count": 1,
   "id": "4a14b630",
   "metadata": {},
   "outputs": [
    {
     "name": "stdout",
     "output_type": "stream",
     "text": [
      "1\n",
      "2\n",
      "3\n",
      "4\n",
      "5\n"
     ]
    }
   ],
   "source": [
    "# Print the first 5 positive integers in ascending order with one number in each line\n",
    "\n",
    "print('1')\n",
    "print('2')\n",
    "print('3')\n",
    "print('4')\n",
    "print('5')"
   ]
  },
  {
   "cell_type": "raw",
   "id": "6798c38f",
   "metadata": {},
   "source": [
    "Print the following pattern.\n",
    "*\n",
    "**\n",
    "***\n",
    "****\n",
    "*****"
   ]
  },
  {
   "cell_type": "code",
   "execution_count": 2,
   "id": "88e56a1a",
   "metadata": {},
   "outputs": [
    {
     "name": "stdout",
     "output_type": "stream",
     "text": [
      "*\n",
      "**\n",
      "***\n",
      "****\n",
      "*****\n"
     ]
    }
   ],
   "source": [
    "print('*')\n",
    "print('**')\n",
    "print('***')\n",
    "print('****')\n",
    "print('*****')"
   ]
  },
  {
   "cell_type": "code",
   "execution_count": 3,
   "id": "f7beb2df",
   "metadata": {},
   "outputs": [
    {
     "name": "stdout",
     "output_type": "stream",
     "text": [
      "3\n",
      "9\n"
     ]
    }
   ],
   "source": [
    "# Accept an integer as input and print its square as output.\n",
    "\n",
    "n = int(input())\n",
    "print(n*n)"
   ]
  },
  {
   "cell_type": "code",
   "execution_count": 5,
   "id": "68092a0d",
   "metadata": {},
   "outputs": [
    {
     "name": "stdout",
     "output_type": "stream",
     "text": [
      "2 \n",
      "3\n",
      "5\n"
     ]
    }
   ],
   "source": [
    "# Accept two integers as input and print their sum as output.\n",
    "\n",
    "n1 = int(input())\n",
    "n2 = int(input())\n",
    "\n",
    "print(n1+n2)"
   ]
  },
  {
   "cell_type": "code",
   "execution_count": 14,
   "id": "d7efe9a1",
   "metadata": {},
   "outputs": [
    {
     "name": "stdout",
     "output_type": "stream",
     "text": [
      "kalyani\n",
      "pkhale\n",
      "kalyani pkhale\n"
     ]
    }
   ],
   "source": [
    "# Accept two words as input and print the two words after adding a space between them.\n",
    "\n",
    "n1 = str(input())\n",
    "n2 = str(input())\n",
    "\n",
    "print(n1,n2)"
   ]
  },
  {
   "cell_type": "code",
   "execution_count": 8,
   "id": "7480b913",
   "metadata": {},
   "outputs": [
    {
     "name": "stdout",
     "output_type": "stream",
     "text": [
      "qw23r5tghn\n",
      "qw\n"
     ]
    }
   ],
   "source": [
    "# Accept the registration number of a vehicle as input and print its state-code as output.\n",
    "\n",
    "n = str(input())\n",
    "print(n[0:2])"
   ]
  },
  {
   "cell_type": "code",
   "execution_count": null,
   "id": "1ceab11e",
   "metadata": {},
   "outputs": [],
   "source": [
    "# Accept a five digit number as input and print the sum of its digits as output.\n",
    "\n",
    "n = input()\n",
    "s = int(n[0])+int(n[1])+int(n[2])+int(n[3])+int(n[4])\n",
    "#s = int(n[0])+int(n[1])\n",
    "print(s)"
   ]
  },
  {
   "cell_type": "markdown",
   "id": "2ee5ed9f",
   "metadata": {},
   "source": [
    "The police are trying to track a criminal based on the evidence available at a crime site. Their main clue is a vehicle's damaged number plate. Only the string TN07 is visible. The format of the registration number is AA00AA00, where the first two letters are alphabets, next two are numbers, next two are again alphabets followed by two numbers at the end. A number plate is picked from a database of registration numbers and is given to you as input. Your task is to determine if this could belong to the criminal or not. Print True if the number plate contains TN07 and False otherwise."
   ]
  },
  {
   "cell_type": "code",
   "execution_count": 1,
   "id": "0ff42147",
   "metadata": {},
   "outputs": [
    {
     "name": "stdout",
     "output_type": "stream",
     "text": [
      "1 2 1\n",
      "1 2 3 2 1\n",
      "1 2 3 4 3 2 1\n",
      "1 2 3 4 5 4 3 2 1\n"
     ]
    }
   ],
   "source": [
    "# PRA8\n",
    "\n",
    "print('1 2 1')\n",
    "print('1 2 3 2 1')\n",
    "print('1 2 3 4 3 2 1')\n",
    "print('1 2 3 4 5 4 3 2 1')"
   ]
  },
  {
   "cell_type": "code",
   "execution_count": 2,
   "id": "e4f55a36",
   "metadata": {},
   "outputs": [
    {
     "name": "stdout",
     "output_type": "stream",
     "text": [
      "adfDS\n",
      "Data Science\n"
     ]
    }
   ],
   "source": [
    "# PRA9\n",
    "\n",
    "roll_no = str(input())\n",
    "\n",
    "if('DS' in roll_no):\n",
    "    print('Data Science')"
   ]
  },
  {
   "cell_type": "code",
   "execution_count": 3,
   "id": "3f785ed8",
   "metadata": {},
   "outputs": [
    {
     "name": "stdout",
     "output_type": "stream",
     "text": [
      "SdwSADS\n",
      "False\n"
     ]
    }
   ],
   "source": [
    "# PRA9\n",
    "n = str(input())\n",
    "\n",
    "if(n[0:2] == 'DS'):\n",
    "    print('True')\n",
    "else:\n",
    "    print('False')"
   ]
  },
  {
   "cell_type": "code",
   "execution_count": 4,
   "id": "4cccdd08",
   "metadata": {},
   "outputs": [
    {
     "name": "stdout",
     "output_type": "stream",
     "text": [
      "dwd\n",
      "False\n"
     ]
    }
   ],
   "source": [
    "# PR10\n",
    "\n",
    "number_plate = str(input())\n",
    "\n",
    "if('TN07' in number_plate):\n",
    "    print(True)\n",
    "else:\n",
    "    print(False)"
   ]
  },
  {
   "cell_type": "code",
   "execution_count": 6,
   "id": "86efea91",
   "metadata": {},
   "outputs": [
    {
     "name": "stdout",
     "output_type": "stream",
     "text": [
      "2\n",
      "3\n",
      "1\n"
     ]
    }
   ],
   "source": [
    "# PR11\n",
    "\n",
    "first_no = int(input())\n",
    "sec_no = int(input())\n",
    "\n",
    "if(first_no >= sec_no):\n",
    "    absolute_diff = first_no - sec_no\n",
    "    \n",
    "else:\n",
    "    absolute_diff =  sec_no - first_no\n",
    "print(absolute_diff)"
   ]
  },
  {
   "cell_type": "code",
   "execution_count": 7,
   "id": "6af0751e",
   "metadata": {},
   "outputs": [
    {
     "name": "stdout",
     "output_type": "stream",
     "text": [
      "Pyyyysvd\n",
      "3\n",
      "4\n"
     ]
    },
    {
     "data": {
      "text/plain": [
       "'yyyyyyyyyy'"
      ]
     },
     "execution_count": 7,
     "metadata": {},
     "output_type": "execute_result"
    }
   ],
   "source": [
    "# PR12\n",
    "\n",
    "# You are given a string and two non-negative integers as input. The two integers specify the start and end indices of a substring in the given string. Create a new string by replicating the substring a minimum number of times so that the resulting string is longer than the input string.\n",
    "\n",
    "string = str(input())\n",
    "strt_endex = int(input())\n",
    "end_index = int(input())\n",
    "\n",
    "resulting_string = string[strt_endex:end_index+1]\n",
    "\n",
    "\n",
    "k = (len(string)//len(resulting_string))+1\n",
    "\n",
    "\n",
    "#k\n",
    "resulting_string*k\n",
    "#if(len(string)<= ))"
   ]
  },
  {
   "cell_type": "code",
   "execution_count": 23,
   "id": "f490f32a",
   "metadata": {},
   "outputs": [
    {
     "name": "stdout",
     "output_type": "stream",
     "text": [
      "2\n",
      "2.413793103448276\n"
     ]
    }
   ],
   "source": [
    "#PR13\n",
    "\n",
    "x= int(input())\n",
    "k = (1/x)\n",
    "cfrac = x + (1/(x+(1/(x+(1/(x+k))))))\n",
    "print(cfrac)"
   ]
  },
  {
   "cell_type": "code",
   "execution_count": null,
   "id": "07d5d51a",
   "metadata": {},
   "outputs": [],
   "source": []
  }
 ],
 "metadata": {
  "kernelspec": {
   "display_name": "Python 3 (ipykernel)",
   "language": "python",
   "name": "python3"
  },
  "language_info": {
   "codemirror_mode": {
    "name": "ipython",
    "version": 3
   },
   "file_extension": ".py",
   "mimetype": "text/x-python",
   "name": "python",
   "nbconvert_exporter": "python",
   "pygments_lexer": "ipython3",
   "version": "3.9.13"
  }
 },
 "nbformat": 4,
 "nbformat_minor": 5
}
