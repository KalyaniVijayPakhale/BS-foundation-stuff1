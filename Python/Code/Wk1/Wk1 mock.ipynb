{
 "cells": [
  {
   "cell_type": "code",
   "execution_count": 2,
   "id": "32f3cf41",
   "metadata": {},
   "outputs": [
    {
     "name": "stdout",
     "output_type": "stream",
     "text": [
      "1 2 1\n",
      "1 2 3 2 1\n",
      "1 2 3 4 3 2 1\n",
      "1 2 3 4 5 4 3 2 1\n"
     ]
    }
   ],
   "source": [
    "# Print the following pattern. Ther\n",
    "# is exactly one space between any two consecutive numbers on any line. There are no spaces at the end of any line.\n",
    "\n",
    "print('1 2 1')\n",
    "print('1 2 3 2 1')\n",
    "print('1 2 3 4 3 2 1')\n",
    "print('1 2 3 4 5 4 3 2 1')"
   ]
  },
  {
   "cell_type": "code",
   "execution_count": null,
   "id": "b3aeb717",
   "metadata": {},
   "outputs": [],
   "source": [
    "# 2\n",
    "\n",
    "roll_no = str(input())\n",
    "\n",
    "if('DS' in roll_no):\n",
    "    print('True')\n",
    "else:\n",
    "    print('False')"
   ]
  },
  {
   "cell_type": "code",
   "execution_count": null,
   "id": "6d42f7b0",
   "metadata": {},
   "outputs": [],
   "source": []
  },
  {
   "cell_type": "code",
   "execution_count": null,
   "id": "518b1bf6",
   "metadata": {},
   "outputs": [],
   "source": []
  }
 ],
 "metadata": {
  "kernelspec": {
   "display_name": "Python 3 (ipykernel)",
   "language": "python",
   "name": "python3"
  },
  "language_info": {
   "codemirror_mode": {
    "name": "ipython",
    "version": 3
   },
   "file_extension": ".py",
   "mimetype": "text/x-python",
   "name": "python",
   "nbconvert_exporter": "python",
   "pygments_lexer": "ipython3",
   "version": "3.9.13"
  }
 },
 "nbformat": 4,
 "nbformat_minor": 5
}
